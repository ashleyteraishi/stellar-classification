{
  "nbformat": 4,
  "nbformat_minor": 0,
  "metadata": {
    "colab": {
      "name": "Stellar Classification",
      "provenance": [],
      "collapsed_sections": [],
      "include_colab_link": true
    },
    "kernelspec": {
      "name": "python3",
      "display_name": "Python 3"
    },
    "language_info": {
      "name": "python"
    }
  },
  "cells": [
    {
      "cell_type": "markdown",
      "metadata": {
        "id": "view-in-github",
        "colab_type": "text"
      },
      "source": [
        "<a href=\"https://colab.research.google.com/github/ashleyteraishi/stellar-classification/blob/main/Stellar_Classification.ipynb\" target=\"_parent\"><img src=\"https://colab.research.google.com/assets/colab-badge.svg\" alt=\"Open In Colab\"/></a>"
      ]
    },
    {
      "cell_type": "markdown",
      "source": [
        "# Stellar Classification"
      ],
      "metadata": {
        "id": "CdMaILVATLn0"
      }
    },
    {
      "cell_type": "markdown",
      "source": [
        "## Imports"
      ],
      "metadata": {
        "id": "IjA20ZaJTFJq"
      }
    },
    {
      "cell_type": "code",
      "execution_count": 1,
      "metadata": {
        "id": "zL-GpMYqpObw"
      },
      "outputs": [],
      "source": [
        "import numpy as np\n",
        "import pandas as pd\n",
        "from matplotlib import rcParams\n",
        "import matplotlib.pyplot as plt\n",
        "import seaborn as sns\n",
        "from scipy.stats import zscore\n",
        "from sklearn.neighbors import KNeighborsClassifier\n",
        "from sklearn.linear_model import LogisticRegression\n",
        "from sklearn.tree import DecisionTreeClassifier, export_graphviz\n",
        "import graphviz\n",
        "from sklearn.svm import SVC\n",
        "from sklearn.model_selection import train_test_split, GridSearchCV, cross_val_score\n",
        "from sklearn.preprocessing import StandardScaler, OneHotEncoder, minmax_scale\n",
        "from sklearn.metrics import confusion_matrix, ConfusionMatrixDisplay, classification_report"
      ]
    },
    {
      "cell_type": "markdown",
      "source": [
        "## Read the data and take a first look\n",
        "\n",
        "---\n",
        "\n"
      ],
      "metadata": {
        "id": "ldKb_lLMOvKa"
      }
    },
    {
      "cell_type": "code",
      "source": [
        "df = pd.read_csv('https://raw.githubusercontent.com/Deelane/CST383---Final/main/star_classification.csv')"
      ],
      "metadata": {
        "id": "75_SMzP8O0J4"
      },
      "execution_count": 2,
      "outputs": []
    },
    {
      "cell_type": "code",
      "source": [
        "df.info()"
      ],
      "metadata": {
        "id": "M0a3o-UKP7Ev",
        "colab": {
          "base_uri": "https://localhost:8080/"
        },
        "outputId": "3de23c36-c630-4353-ab17-725652e7eea3"
      },
      "execution_count": 3,
      "outputs": [
        {
          "output_type": "stream",
          "name": "stdout",
          "text": [
            "<class 'pandas.core.frame.DataFrame'>\n",
            "RangeIndex: 100000 entries, 0 to 99999\n",
            "Data columns (total 18 columns):\n",
            " #   Column       Non-Null Count   Dtype  \n",
            "---  ------       --------------   -----  \n",
            " 0   obj_ID       100000 non-null  float64\n",
            " 1   alpha        100000 non-null  float64\n",
            " 2   delta        100000 non-null  float64\n",
            " 3   u            100000 non-null  float64\n",
            " 4   g            100000 non-null  float64\n",
            " 5   r            100000 non-null  float64\n",
            " 6   i            100000 non-null  float64\n",
            " 7   z            100000 non-null  float64\n",
            " 8   run_ID       100000 non-null  int64  \n",
            " 9   rerun_ID     100000 non-null  int64  \n",
            " 10  cam_col      100000 non-null  int64  \n",
            " 11  field_ID     100000 non-null  int64  \n",
            " 12  spec_obj_ID  100000 non-null  float64\n",
            " 13  class        100000 non-null  object \n",
            " 14  redshift     100000 non-null  float64\n",
            " 15  plate        100000 non-null  int64  \n",
            " 16  MJD          100000 non-null  int64  \n",
            " 17  fiber_ID     100000 non-null  int64  \n",
            "dtypes: float64(10), int64(7), object(1)\n",
            "memory usage: 13.7+ MB\n"
          ]
        }
      ]
    },
    {
      "cell_type": "markdown",
      "source": [
        "The dataset has no null entries, but we will still need to check for outliers"
      ],
      "metadata": {
        "id": "SDsPaYaFulII"
      }
    },
    {
      "cell_type": "code",
      "source": [
        "df.describe()"
      ],
      "metadata": {
        "id": "8Xa8ivPKSPfi",
        "colab": {
          "base_uri": "https://localhost:8080/",
          "height": 364
        },
        "outputId": "8d68d77c-15af-4f3b-8acb-ac54152b0cf4"
      },
      "execution_count": 4,
      "outputs": [
        {
          "output_type": "execute_result",
          "data": {
            "text/plain": [
              "             obj_ID          alpha          delta              u  \\\n",
              "count  1.000000e+05  100000.000000  100000.000000  100000.000000   \n",
              "mean   1.237665e+18     177.629117      24.135305      21.980468   \n",
              "std    8.438560e+12      96.502241      19.644665      31.769291   \n",
              "min    1.237646e+18       0.005528     -18.785328   -9999.000000   \n",
              "25%    1.237659e+18     127.518222       5.146771      20.352353   \n",
              "50%    1.237663e+18     180.900700      23.645922      22.179135   \n",
              "75%    1.237668e+18     233.895005      39.901550      23.687440   \n",
              "max    1.237681e+18     359.999810      83.000519      32.781390   \n",
              "\n",
              "                   g              r              i              z  \\\n",
              "count  100000.000000  100000.000000  100000.000000  100000.000000   \n",
              "mean       20.531387      19.645762      19.084854      18.668810   \n",
              "std        31.750292       1.854760       1.757895      31.728152   \n",
              "min     -9999.000000       9.822070       9.469903   -9999.000000   \n",
              "25%        18.965230      18.135828      17.732285      17.460677   \n",
              "50%        21.099835      20.125290      19.405145      19.004595   \n",
              "75%        22.123767      21.044785      20.396495      19.921120   \n",
              "max        31.602240      29.571860      32.141470      29.383740   \n",
              "\n",
              "              run_ID  rerun_ID        cam_col       field_ID   spec_obj_ID  \\\n",
              "count  100000.000000  100000.0  100000.000000  100000.000000  1.000000e+05   \n",
              "mean     4481.366060     301.0       3.511610     186.130520  5.783882e+18   \n",
              "std      1964.764593       0.0       1.586912     149.011073  3.324016e+18   \n",
              "min       109.000000     301.0       1.000000      11.000000  2.995191e+17   \n",
              "25%      3187.000000     301.0       2.000000      82.000000  2.844138e+18   \n",
              "50%      4188.000000     301.0       4.000000     146.000000  5.614883e+18   \n",
              "75%      5326.000000     301.0       5.000000     241.000000  8.332144e+18   \n",
              "max      8162.000000     301.0       6.000000     989.000000  1.412694e+19   \n",
              "\n",
              "            redshift          plate            MJD       fiber_ID  \n",
              "count  100000.000000  100000.000000  100000.000000  100000.000000  \n",
              "mean        0.576661    5137.009660   55588.647500     449.312740  \n",
              "std         0.730707    2952.303351    1808.484233     272.498404  \n",
              "min        -0.009971     266.000000   51608.000000       1.000000  \n",
              "25%         0.054517    2526.000000   54234.000000     221.000000  \n",
              "50%         0.424173    4987.000000   55868.500000     433.000000  \n",
              "75%         0.704154    7400.250000   56777.000000     645.000000  \n",
              "max         7.011245   12547.000000   58932.000000    1000.000000  "
            ],
            "text/html": [
              "\n",
              "  <div id=\"df-e760b2b9-c5dd-4185-b484-5ad6571886f2\">\n",
              "    <div class=\"colab-df-container\">\n",
              "      <div>\n",
              "<style scoped>\n",
              "    .dataframe tbody tr th:only-of-type {\n",
              "        vertical-align: middle;\n",
              "    }\n",
              "\n",
              "    .dataframe tbody tr th {\n",
              "        vertical-align: top;\n",
              "    }\n",
              "\n",
              "    .dataframe thead th {\n",
              "        text-align: right;\n",
              "    }\n",
              "</style>\n",
              "<table border=\"1\" class=\"dataframe\">\n",
              "  <thead>\n",
              "    <tr style=\"text-align: right;\">\n",
              "      <th></th>\n",
              "      <th>obj_ID</th>\n",
              "      <th>alpha</th>\n",
              "      <th>delta</th>\n",
              "      <th>u</th>\n",
              "      <th>g</th>\n",
              "      <th>r</th>\n",
              "      <th>i</th>\n",
              "      <th>z</th>\n",
              "      <th>run_ID</th>\n",
              "      <th>rerun_ID</th>\n",
              "      <th>cam_col</th>\n",
              "      <th>field_ID</th>\n",
              "      <th>spec_obj_ID</th>\n",
              "      <th>redshift</th>\n",
              "      <th>plate</th>\n",
              "      <th>MJD</th>\n",
              "      <th>fiber_ID</th>\n",
              "    </tr>\n",
              "  </thead>\n",
              "  <tbody>\n",
              "    <tr>\n",
              "      <th>count</th>\n",
              "      <td>1.000000e+05</td>\n",
              "      <td>100000.000000</td>\n",
              "      <td>100000.000000</td>\n",
              "      <td>100000.000000</td>\n",
              "      <td>100000.000000</td>\n",
              "      <td>100000.000000</td>\n",
              "      <td>100000.000000</td>\n",
              "      <td>100000.000000</td>\n",
              "      <td>100000.000000</td>\n",
              "      <td>100000.0</td>\n",
              "      <td>100000.000000</td>\n",
              "      <td>100000.000000</td>\n",
              "      <td>1.000000e+05</td>\n",
              "      <td>100000.000000</td>\n",
              "      <td>100000.000000</td>\n",
              "      <td>100000.000000</td>\n",
              "      <td>100000.000000</td>\n",
              "    </tr>\n",
              "    <tr>\n",
              "      <th>mean</th>\n",
              "      <td>1.237665e+18</td>\n",
              "      <td>177.629117</td>\n",
              "      <td>24.135305</td>\n",
              "      <td>21.980468</td>\n",
              "      <td>20.531387</td>\n",
              "      <td>19.645762</td>\n",
              "      <td>19.084854</td>\n",
              "      <td>18.668810</td>\n",
              "      <td>4481.366060</td>\n",
              "      <td>301.0</td>\n",
              "      <td>3.511610</td>\n",
              "      <td>186.130520</td>\n",
              "      <td>5.783882e+18</td>\n",
              "      <td>0.576661</td>\n",
              "      <td>5137.009660</td>\n",
              "      <td>55588.647500</td>\n",
              "      <td>449.312740</td>\n",
              "    </tr>\n",
              "    <tr>\n",
              "      <th>std</th>\n",
              "      <td>8.438560e+12</td>\n",
              "      <td>96.502241</td>\n",
              "      <td>19.644665</td>\n",
              "      <td>31.769291</td>\n",
              "      <td>31.750292</td>\n",
              "      <td>1.854760</td>\n",
              "      <td>1.757895</td>\n",
              "      <td>31.728152</td>\n",
              "      <td>1964.764593</td>\n",
              "      <td>0.0</td>\n",
              "      <td>1.586912</td>\n",
              "      <td>149.011073</td>\n",
              "      <td>3.324016e+18</td>\n",
              "      <td>0.730707</td>\n",
              "      <td>2952.303351</td>\n",
              "      <td>1808.484233</td>\n",
              "      <td>272.498404</td>\n",
              "    </tr>\n",
              "    <tr>\n",
              "      <th>min</th>\n",
              "      <td>1.237646e+18</td>\n",
              "      <td>0.005528</td>\n",
              "      <td>-18.785328</td>\n",
              "      <td>-9999.000000</td>\n",
              "      <td>-9999.000000</td>\n",
              "      <td>9.822070</td>\n",
              "      <td>9.469903</td>\n",
              "      <td>-9999.000000</td>\n",
              "      <td>109.000000</td>\n",
              "      <td>301.0</td>\n",
              "      <td>1.000000</td>\n",
              "      <td>11.000000</td>\n",
              "      <td>2.995191e+17</td>\n",
              "      <td>-0.009971</td>\n",
              "      <td>266.000000</td>\n",
              "      <td>51608.000000</td>\n",
              "      <td>1.000000</td>\n",
              "    </tr>\n",
              "    <tr>\n",
              "      <th>25%</th>\n",
              "      <td>1.237659e+18</td>\n",
              "      <td>127.518222</td>\n",
              "      <td>5.146771</td>\n",
              "      <td>20.352353</td>\n",
              "      <td>18.965230</td>\n",
              "      <td>18.135828</td>\n",
              "      <td>17.732285</td>\n",
              "      <td>17.460677</td>\n",
              "      <td>3187.000000</td>\n",
              "      <td>301.0</td>\n",
              "      <td>2.000000</td>\n",
              "      <td>82.000000</td>\n",
              "      <td>2.844138e+18</td>\n",
              "      <td>0.054517</td>\n",
              "      <td>2526.000000</td>\n",
              "      <td>54234.000000</td>\n",
              "      <td>221.000000</td>\n",
              "    </tr>\n",
              "    <tr>\n",
              "      <th>50%</th>\n",
              "      <td>1.237663e+18</td>\n",
              "      <td>180.900700</td>\n",
              "      <td>23.645922</td>\n",
              "      <td>22.179135</td>\n",
              "      <td>21.099835</td>\n",
              "      <td>20.125290</td>\n",
              "      <td>19.405145</td>\n",
              "      <td>19.004595</td>\n",
              "      <td>4188.000000</td>\n",
              "      <td>301.0</td>\n",
              "      <td>4.000000</td>\n",
              "      <td>146.000000</td>\n",
              "      <td>5.614883e+18</td>\n",
              "      <td>0.424173</td>\n",
              "      <td>4987.000000</td>\n",
              "      <td>55868.500000</td>\n",
              "      <td>433.000000</td>\n",
              "    </tr>\n",
              "    <tr>\n",
              "      <th>75%</th>\n",
              "      <td>1.237668e+18</td>\n",
              "      <td>233.895005</td>\n",
              "      <td>39.901550</td>\n",
              "      <td>23.687440</td>\n",
              "      <td>22.123767</td>\n",
              "      <td>21.044785</td>\n",
              "      <td>20.396495</td>\n",
              "      <td>19.921120</td>\n",
              "      <td>5326.000000</td>\n",
              "      <td>301.0</td>\n",
              "      <td>5.000000</td>\n",
              "      <td>241.000000</td>\n",
              "      <td>8.332144e+18</td>\n",
              "      <td>0.704154</td>\n",
              "      <td>7400.250000</td>\n",
              "      <td>56777.000000</td>\n",
              "      <td>645.000000</td>\n",
              "    </tr>\n",
              "    <tr>\n",
              "      <th>max</th>\n",
              "      <td>1.237681e+18</td>\n",
              "      <td>359.999810</td>\n",
              "      <td>83.000519</td>\n",
              "      <td>32.781390</td>\n",
              "      <td>31.602240</td>\n",
              "      <td>29.571860</td>\n",
              "      <td>32.141470</td>\n",
              "      <td>29.383740</td>\n",
              "      <td>8162.000000</td>\n",
              "      <td>301.0</td>\n",
              "      <td>6.000000</td>\n",
              "      <td>989.000000</td>\n",
              "      <td>1.412694e+19</td>\n",
              "      <td>7.011245</td>\n",
              "      <td>12547.000000</td>\n",
              "      <td>58932.000000</td>\n",
              "      <td>1000.000000</td>\n",
              "    </tr>\n",
              "  </tbody>\n",
              "</table>\n",
              "</div>\n",
              "      <button class=\"colab-df-convert\" onclick=\"convertToInteractive('df-e760b2b9-c5dd-4185-b484-5ad6571886f2')\"\n",
              "              title=\"Convert this dataframe to an interactive table.\"\n",
              "              style=\"display:none;\">\n",
              "        \n",
              "  <svg xmlns=\"http://www.w3.org/2000/svg\" height=\"24px\"viewBox=\"0 0 24 24\"\n",
              "       width=\"24px\">\n",
              "    <path d=\"M0 0h24v24H0V0z\" fill=\"none\"/>\n",
              "    <path d=\"M18.56 5.44l.94 2.06.94-2.06 2.06-.94-2.06-.94-.94-2.06-.94 2.06-2.06.94zm-11 1L8.5 8.5l.94-2.06 2.06-.94-2.06-.94L8.5 2.5l-.94 2.06-2.06.94zm10 10l.94 2.06.94-2.06 2.06-.94-2.06-.94-.94-2.06-.94 2.06-2.06.94z\"/><path d=\"M17.41 7.96l-1.37-1.37c-.4-.4-.92-.59-1.43-.59-.52 0-1.04.2-1.43.59L10.3 9.45l-7.72 7.72c-.78.78-.78 2.05 0 2.83L4 21.41c.39.39.9.59 1.41.59.51 0 1.02-.2 1.41-.59l7.78-7.78 2.81-2.81c.8-.78.8-2.07 0-2.86zM5.41 20L4 18.59l7.72-7.72 1.47 1.35L5.41 20z\"/>\n",
              "  </svg>\n",
              "      </button>\n",
              "      \n",
              "  <style>\n",
              "    .colab-df-container {\n",
              "      display:flex;\n",
              "      flex-wrap:wrap;\n",
              "      gap: 12px;\n",
              "    }\n",
              "\n",
              "    .colab-df-convert {\n",
              "      background-color: #E8F0FE;\n",
              "      border: none;\n",
              "      border-radius: 50%;\n",
              "      cursor: pointer;\n",
              "      display: none;\n",
              "      fill: #1967D2;\n",
              "      height: 32px;\n",
              "      padding: 0 0 0 0;\n",
              "      width: 32px;\n",
              "    }\n",
              "\n",
              "    .colab-df-convert:hover {\n",
              "      background-color: #E2EBFA;\n",
              "      box-shadow: 0px 1px 2px rgba(60, 64, 67, 0.3), 0px 1px 3px 1px rgba(60, 64, 67, 0.15);\n",
              "      fill: #174EA6;\n",
              "    }\n",
              "\n",
              "    [theme=dark] .colab-df-convert {\n",
              "      background-color: #3B4455;\n",
              "      fill: #D2E3FC;\n",
              "    }\n",
              "\n",
              "    [theme=dark] .colab-df-convert:hover {\n",
              "      background-color: #434B5C;\n",
              "      box-shadow: 0px 1px 3px 1px rgba(0, 0, 0, 0.15);\n",
              "      filter: drop-shadow(0px 1px 2px rgba(0, 0, 0, 0.3));\n",
              "      fill: #FFFFFF;\n",
              "    }\n",
              "  </style>\n",
              "\n",
              "      <script>\n",
              "        const buttonEl =\n",
              "          document.querySelector('#df-e760b2b9-c5dd-4185-b484-5ad6571886f2 button.colab-df-convert');\n",
              "        buttonEl.style.display =\n",
              "          google.colab.kernel.accessAllowed ? 'block' : 'none';\n",
              "\n",
              "        async function convertToInteractive(key) {\n",
              "          const element = document.querySelector('#df-e760b2b9-c5dd-4185-b484-5ad6571886f2');\n",
              "          const dataTable =\n",
              "            await google.colab.kernel.invokeFunction('convertToInteractive',\n",
              "                                                     [key], {});\n",
              "          if (!dataTable) return;\n",
              "\n",
              "          const docLinkHtml = 'Like what you see? Visit the ' +\n",
              "            '<a target=\"_blank\" href=https://colab.research.google.com/notebooks/data_table.ipynb>data table notebook</a>'\n",
              "            + ' to learn more about interactive tables.';\n",
              "          element.innerHTML = '';\n",
              "          dataTable['output_type'] = 'display_data';\n",
              "          await google.colab.output.renderOutput(dataTable, element);\n",
              "          const docLink = document.createElement('div');\n",
              "          docLink.innerHTML = docLinkHtml;\n",
              "          element.appendChild(docLink);\n",
              "        }\n",
              "      </script>\n",
              "    </div>\n",
              "  </div>\n",
              "  "
            ]
          },
          "metadata": {},
          "execution_count": 4
        }
      ]
    },
    {
      "cell_type": "markdown",
      "source": [
        "Note the -9999 values as min for columns u, g, and z. Is this missing/bad data?"
      ],
      "metadata": {
        "id": "YOynyYMG1e7r"
      }
    },
    {
      "cell_type": "code",
      "source": [
        "print(df['class'].value_counts())\n",
        "sns.countplot('class', data=df);\n",
        "bad_index = df[df['g'] == -9999].index[0]\n",
        "df.drop([bad_index], inplace=True) #drop the bad data\n",
        "df.reset_index(drop=True, inplace=True)"
      ],
      "metadata": {
        "id": "5kc3Eec1Skpf",
        "colab": {
          "base_uri": "https://localhost:8080/",
          "height": 403
        },
        "outputId": "c28d8190-eec1-4319-c977-058ac4267128"
      },
      "execution_count": 5,
      "outputs": [
        {
          "output_type": "stream",
          "name": "stdout",
          "text": [
            "GALAXY    59445\n",
            "STAR      21594\n",
            "QSO       18961\n",
            "Name: class, dtype: int64\n"
          ]
        },
        {
          "output_type": "stream",
          "name": "stderr",
          "text": [
            "/usr/local/lib/python3.7/dist-packages/seaborn/_decorators.py:43: FutureWarning: Pass the following variable as a keyword arg: x. From version 0.12, the only valid positional argument will be `data`, and passing other arguments without an explicit keyword will result in an error or misinterpretation.\n",
            "  FutureWarning\n"
          ]
        },
        {
          "output_type": "display_data",
          "data": {
            "text/plain": [
              "<Figure size 432x288 with 1 Axes>"
            ],
            "image/png": "[encoded data removed]"
          },
          "metadata": {
            "needs_background": "light"
          }
        }
      ]
    },
    {
      "cell_type": "markdown",
      "source": [
        "As you can see, this is an unbalanced dataset. There are significantly more 'GALAXY' entries than 'QSO' and 'STAR'"
      ],
      "metadata": {
        "id": "NUPuM09Duxkr"
      }
    },
    {
      "cell_type": "code",
      "source": [
        "corr = df.corr()\n",
        "sns.heatmap(corr, xticklabels=corr.columns, yticklabels=corr.columns);"
      ],
      "metadata": {
        "id": "flrL2OHKT94T",
        "colab": {
          "base_uri": "https://localhost:8080/",
          "height": 317
        },
        "outputId": "0cca079f-a2b0-4f1c-d838-4897e3018605"
      },
      "execution_count": 6,
      "outputs": [
        {
          "output_type": "display_data",
          "data": {
            "text/plain": [
              "<Figure size 432x288 with 2 Axes>"
            ],
            "image/png": "[encoded data removed]"
          },
          "metadata": {
            "needs_background": "light"
          }
        }
      ]
    },
    {
      "cell_type": "markdown",
      "source": [
        "# Data Visualization / Preprocessing:"
      ],
      "metadata": {
        "id": "tcmeHaaLC9pV"
      }
    },
    {
      "cell_type": "markdown",
      "source": [
        "### Dropping ID columns\n"
      ],
      "metadata": {
        "id": "VyNXASBBwLnj"
      }
    },
    {
      "cell_type": "code",
      "source": [
        "df.drop(columns=['obj_ID', 'run_ID', 'rerun_ID', 'field_ID','fiber_ID', 'spec_obj_ID', 'MJD', 'cam_col'], inplace=True)"
      ],
      "metadata": {
        "id": "OOpgYKqJWIUo"
      },
      "execution_count": 7,
      "outputs": []
    },
    {
      "cell_type": "markdown",
      "source": [
        "### Remaining columns"
      ],
      "metadata": {
        "id": "m3xTArphwVv4"
      }
    },
    {
      "cell_type": "markdown",
      "source": [
        "Columns ['u', 'g', 'z'] and ['r', 'i'] correlate to the other columns in almost excactly same way. 'r' and 'i' are different enough with regards to redshift (our biggest predictor) so we will keep them."
      ],
      "metadata": {
        "id": "DNJvW7V3zAXC"
      }
    },
    {
      "cell_type": "code",
      "source": [
        "sns.heatmap(df.corr());"
      ],
      "metadata": {
        "id": "XdA0oFd2wbOI",
        "colab": {
          "base_uri": "https://localhost:8080/",
          "height": 297
        },
        "outputId": "cb489735-0f0e-4b58-c43c-2198cc8a89ec"
      },
      "execution_count": 8,
      "outputs": [
        {
          "output_type": "display_data",
          "data": {
            "text/plain": [
              "<Figure size 432x288 with 2 Axes>"
            ],
            "image/png": "[encoded data removed]"
          },
          "metadata": {
            "needs_background": "light"
          }
        }
      ]
    },
    {
      "cell_type": "markdown",
      "source": [
        "### Final columns"
      ],
      "metadata": {
        "id": "oTdkxxuCwjKa"
      }
    },
    {
      "cell_type": "code",
      "source": [
        "df.drop(columns=['u', 'z'], inplace=True)\n",
        "sns.heatmap(df.corr()); "
      ],
      "metadata": {
        "colab": {
          "base_uri": "https://localhost:8080/",
          "height": 268
        },
        "id": "e_litkMG0Ds-",
        "outputId": "8dc607e1-d74d-4c3f-99b1-5f8fc68a9e12"
      },
      "execution_count": 9,
      "outputs": [
        {
          "output_type": "display_data",
          "data": {
            "text/plain": [
              "<Figure size 432x288 with 2 Axes>"
            ],
            "image/png": "[encoded data removed]"
          },
          "metadata": {
            "needs_background": "light"
          }
        }
      ]
    },
    {
      "cell_type": "markdown",
      "source": [
        "### Pairplot"
      ],
      "metadata": {
        "id": "7uAyYBYV1UKE"
      }
    },
    {
      "cell_type": "markdown",
      "source": [
        "'redshift', 'g', and 'redshift' vs 'g' show to be very good at classifying, with each class clearly having its own value range for each."
      ],
      "metadata": {
        "id": "oGVHKQhs9ajZ"
      }
    },
    {
      "cell_type": "code",
      "source": [
        "sns.pairplot(df, hue='class')"
      ],
      "metadata": {
        "id": "XI80CQu21clZ"
      },
      "execution_count": null,
      "outputs": []
    },
    {
      "cell_type": "markdown",
      "source": [
        "### One Hot Encoding"
      ],
      "metadata": {
        "id": "MNntkrfWvu1h"
      }
    },
    {
      "cell_type": "code",
      "source": [
        "enc = OneHotEncoder()\n",
        "enc_df = pd.DataFrame(enc.fit_transform(df[['class']]).toarray())\n",
        "enc_df.columns = ['GALAXY', 'QSO', 'STAR']\n",
        "df = pd.concat([df, enc_df], axis=1)"
      ],
      "metadata": {
        "id": "JylxPCMLMeNb"
      },
      "execution_count": null,
      "outputs": []
    },
    {
      "cell_type": "markdown",
      "source": [
        "## Forward Selection - Manual Testing"
      ],
      "metadata": {
        "id": "0g0ndvqxTTLt"
      }
    },
    {
      "cell_type": "markdown",
      "source": [
        "Selecting Predictors"
      ],
      "metadata": {
        "id": "PUCInaN1Towf"
      }
    },
    {
      "cell_type": "code",
      "source": [
        "targets = ['GALAXY', 'QSO', 'STAR']\n",
        "\n",
        "# run 1\n",
        "# predictors = ['alpha', 'delta', 'g', 'r', 'i', 'redshift', 'plate']\n",
        "\n",
        "# run 2\n",
        "# redshift provides highest accuracy:\n",
        "# predictors = ['alpha', 'delta', 'g', 'r', 'i', 'plate']\n",
        "\n",
        "# run 3\n",
        "# g + redshift provides highest accuracy:\n",
        "# predictors = ['alpha', 'delta', 'r', 'i', 'plate']\n",
        "\n",
        "# run 4\n",
        "# r + g + redshift provides highest accuracy:\n",
        "# predictors = ['alpha', 'delta', 'i', 'plate']\n",
        "\n",
        "# run 5\n",
        "# i + r + g + redshift provides highest accuracy:\n",
        "predictors = ['alpha', 'delta', 'plate']"
      ],
      "metadata": {
        "id": "LD0ilkJQTXs6"
      },
      "execution_count": null,
      "outputs": []
    },
    {
      "cell_type": "markdown",
      "source": [
        "Getting Accuracy"
      ],
      "metadata": {
        "id": "9Fq9NNAoTzfV"
      }
    },
    {
      "cell_type": "code",
      "source": [
        "for p in predictors:\n",
        "  # run 1 - for all predictors:\n",
        "  # X = df[[p]].values\n",
        "\n",
        "  # run 2\n",
        "  # redshift provides highest accuracy: 94.31, add to predictors\n",
        "  # X = df[[p, 'redshift']].values\n",
        "\n",
        "  # run 3\n",
        "  # g + redshift provides highest accuracy: 95.4, add to predictors\n",
        "  # X = df[[p, 'redshift', 'g']].values\n",
        "\n",
        "  # run 4\n",
        "  # r + g + redshift provides highest accuracy: 95.08, add to predictors\n",
        "  # X = df[[p, 'redshift', 'g', 'r']].values\n",
        "\n",
        "  # run 5\n",
        "  # i + r + g + redshift provides highest accuracy: 93.86\n",
        "  X = df[[p, 'redshift', 'g', 'r', 'i']].values\n",
        "\n",
        "  y = df[targets].values\n",
        "\n",
        "  X_train, X_test, y_train, y_test = train_test_split(X, y, test_size=0.30, random_state=42)\n",
        "  scaler = StandardScaler()\n",
        "  X_train = scaler.fit_transform(X_train)\n",
        "  X_test = scaler.transform(X_test)\n",
        "\n",
        "  # implement kNN classification with default value of k\n",
        "  knn = KNeighborsClassifier(weights='distance', metric='manhattan')\n",
        "  knn.fit(X_train, y_train)\n",
        "\n",
        "  # get predictions\n",
        "  predictions = knn.predict(X_test)\n",
        "\n",
        "  predictions_enc = pd.DataFrame(predictions).idxmax(axis=1)\n",
        "  y_test_enc = pd.DataFrame(y_test).idxmax(axis=1)\n",
        "\n",
        "  print (p, (predictions_enc == y_test_enc).mean())"
      ],
      "metadata": {
        "id": "8YyPcsqATXdH"
      },
      "execution_count": null,
      "outputs": []
    },
    {
      "cell_type": "markdown",
      "source": [
        "## Set Predictors and Targets"
      ],
      "metadata": {
        "id": "gu8ieW-aSKk7"
      }
    },
    {
      "cell_type": "code",
      "source": [
        "# Set predictors and targets\n",
        "predictors = ['alpha', 'delta', 'g', 'r', 'i', 'redshift', 'plate']\n",
        "targets = ['GALAXY', 'QSO', 'STAR']\n",
        "\n",
        "X = df[predictors].values\n",
        "y = df[targets].values"
      ],
      "metadata": {
        "id": "FsIvFY9RSKa_"
      },
      "execution_count": null,
      "outputs": []
    },
    {
      "cell_type": "markdown",
      "source": [
        "##Train, Test, Split"
      ],
      "metadata": {
        "id": "rYNDVT8vEdQE"
      }
    },
    {
      "cell_type": "code",
      "source": [
        "#Train, Test, Split (Random Seed 42)\n",
        "X_train, X_test, y_train, y_test = train_test_split(X, y, test_size=0.2, random_state=42)"
      ],
      "metadata": {
        "id": "mq6sFbdAEiCZ"
      },
      "execution_count": null,
      "outputs": []
    },
    {
      "cell_type": "markdown",
      "source": [
        "# Choosing a model"
      ],
      "metadata": {
        "id": "TgH1Lqkm2fnh"
      }
    },
    {
      "cell_type": "markdown",
      "source": [
        "##KNN Exploration\n"
      ],
      "metadata": {
        "id": "ZF8AQLaLElx3"
      }
    },
    {
      "cell_type": "code",
      "source": [
        "#WARNING, COSTLY COMPUTATIONS\n",
        "\n",
        "#use gridsearch on cross validation to find the best n and p for knn\n",
        "n_sqrt = round(np.sqrt(X_train.shape[0]))\n",
        "grid = [{'n_neighbors': [3, 5, 7, 9, n_sqrt], 'p':[1,2]}]\n",
        "knnCV = GridSearchCV(KNeighborsClassifier(), grid, cv=5, scoring='accuracy')\n",
        "knnCV.fit(X_train, y_train)\n",
        "print(knnCV.best_params_)\n",
        "\n",
        "#Best hyperparameters evaluate to {'n_neighbors': 3, 'p': 1}, so 3 neighbors and the distance algorithm being the manhattan distance\n",
        "#This will likely change as it is possible that we are overfitting"
      ],
      "metadata": {
        "id": "tce7rYazE2xf"
      },
      "execution_count": null,
      "outputs": []
    },
    {
      "cell_type": "markdown",
      "source": [
        "### Learning Curves"
      ],
      "metadata": {
        "id": "V_S7oNCvT_0N"
      }
    },
    {
      "cell_type": "code",
      "source": [
        "from sklearn.model_selection import learning_curve\n",
        "\n",
        "#cell height\n",
        "from IPython.display import Javascript\n",
        "display(Javascript('''google.colab.output.setIframeHeight(0, true, {maxHeight: 5000})'''))\n",
        "\n",
        "learning_curve_df = pd.DataFrame({'train_scores_mean':[], 'test_scores_mean': []})\n",
        "\n",
        "knn = KNeighborsClassifier(n_neighbors=3, p = 1) #Manhattan distance\n",
        "train_sizes, train_scores, test_scores = learning_curve(knn, X_train, y_train, cv=5, scoring='accuracy')\n",
        "train_scores_mean = np.mean(train_scores, axis=1)\n",
        "test_scores_mean = np.mean(test_scores, axis=1)\n",
        "df_temp = pd.DataFrame([[train_scores_mean, test_scores_mean]], columns=['train_scores_mean', 'test_scores_mean'])\n",
        "learning_curve_df = pd.concat([learning_curve_df, df_temp], ignore_index=True)\n",
        "plt.plot(train_sizes, train_scores_mean, label='train')\n",
        "plt.plot(train_sizes, test_scores_mean, label='test')\n",
        "plt.legend()\n",
        "title = \"Learning curve, KNN, n_neighbors=3\"\n",
        "plt.title(title)"
      ],
      "metadata": {
        "id": "Ye2dSluqUC49"
      },
      "execution_count": null,
      "outputs": []
    },
    {
      "cell_type": "markdown",
      "source": [
        "## Logistic Regression Exploration\n"
      ],
      "metadata": {
        "id": "JhOx6KPr3rfG"
      }
    },
    {
      "cell_type": "markdown",
      "source": [
        "### Label Encoding"
      ],
      "metadata": {
        "id": "fF3nAKc76uh_"
      }
    },
    {
      "cell_type": "code",
      "source": [
        "df['class_cat'] = df['class'].astype('category').cat.codes"
      ],
      "metadata": {
        "id": "b8-39nmn6zT_"
      },
      "execution_count": null,
      "outputs": []
    },
    {
      "cell_type": "markdown",
      "source": [
        "### Grid Search for each solver"
      ],
      "metadata": {
        "id": "QPNSGmCn7GgE"
      }
    },
    {
      "cell_type": "code",
      "source": [
        "predictors = ['alpha', 'delta', 'g', 'r', 'i', 'redshift', 'plate']\n",
        "\n",
        "X = df[predictors].values\n",
        "y = df['class'].values\n",
        "\n",
        "#Train, Test, Split (Random Seed 42)\n",
        "X_train, X_test, y_train, y_test = train_test_split(X, y, test_size=0.2, random_state=42)\n",
        "\n",
        "grid = [{'solver':['liblinear', 'sag', 'saga']}]\n",
        "clf_cv = GridSearchCV(LogisticRegression(), grid, cv=5, scoring='accuracy')\n",
        "clf_cv.fit(X_train, y_train)\n",
        "print(clf_cv.best_params_)"
      ],
      "metadata": {
        "id": "C4J1fS5MpvPJ"
      },
      "execution_count": null,
      "outputs": []
    },
    {
      "cell_type": "markdown",
      "source": [
        "### Drop labels"
      ],
      "metadata": {
        "id": "k8jKfHzL637k"
      }
    },
    {
      "cell_type": "code",
      "source": [
        "df.drop(columns=['class_cat'], inplace=True)"
      ],
      "metadata": {
        "id": "eW4pGqsD66CP"
      },
      "execution_count": null,
      "outputs": []
    },
    {
      "cell_type": "markdown",
      "source": [
        "## Decision Tree Classifier Exploration"
      ],
      "metadata": {
        "id": "iwKXQNdi7cxF"
      }
    },
    {
      "cell_type": "markdown",
      "source": [
        "### Testing different hyperparameters"
      ],
      "metadata": {
        "id": "Al-l1mRY7npG"
      }
    },
    {
      "cell_type": "code",
      "source": [
        "# we will test max_depth values ranging from 2 to 10\n",
        "params = {'max_depth':np.arange(2,11)}\n",
        "\n",
        "# grid search using 5-fold cross validation\n",
        "clf_cv = GridSearchCV(DecisionTreeClassifier(), params, cv=5)\n",
        "clf_cv.fit(X_train, y_train)\n",
        "\n",
        "# print results\n",
        "print('Best estimator:', clf_cv.best_estimator_)\n",
        "print('Best accuracy:', clf_cv.best_score_)\n",
        "print(clf_cv.cv_results_)"
      ],
      "metadata": {
        "id": "EjpUT3Y4rhg2"
      },
      "execution_count": null,
      "outputs": []
    },
    {
      "cell_type": "markdown",
      "source": [
        "# Testing Models using best parameters from exploration"
      ],
      "metadata": {
        "id": "rJhdQLDzwKEZ"
      }
    },
    {
      "cell_type": "markdown",
      "source": [
        "### Set Predictors and Targets"
      ],
      "metadata": {
        "id": "oo3Rl8JCrAtH"
      }
    },
    {
      "cell_type": "code",
      "source": [
        "# Set predictors and targets\n",
        "predictors = ['alpha', 'delta', 'g', 'r', 'i', 'redshift', 'plate']\n",
        "targets = ['GALAXY', 'QSO', 'STAR']\n",
        "\n",
        "X = df[predictors].values\n",
        "y = df[targets].values"
      ],
      "metadata": {
        "id": "v6DYPQrGq7sO"
      },
      "execution_count": null,
      "outputs": []
    },
    {
      "cell_type": "markdown",
      "source": [
        "### Split and Scale Data"
      ],
      "metadata": {
        "id": "veOHnwwPrEjY"
      }
    },
    {
      "cell_type": "code",
      "source": [
        "#Train, Test, Split (Random Seed 42)\n",
        "X_train, X_test, y_train, y_test = train_test_split(X, y, test_size=0.2, random_state=42)\n",
        "\n",
        "# Scale X_train and X_test\n",
        "scaler = StandardScaler()\n",
        "X_train = scaler.fit_transform(X_train)\n",
        "X_test = scaler.transform(X_test)"
      ],
      "metadata": {
        "id": "gTw6wyK2wdKC"
      },
      "execution_count": null,
      "outputs": []
    },
    {
      "cell_type": "markdown",
      "source": [
        "## Random Forest Classification"
      ],
      "metadata": {
        "id": "4jXgFHR7YiJH"
      }
    },
    {
      "cell_type": "code",
      "source": [
        "from sklearn.ensemble import RandomForestClassifier\n",
        "\n",
        "rfc = RandomForestClassifier()\n",
        "rfc.fit(X_train, y_train)\n",
        "\n",
        "# get predictions\n",
        "predictions = rfc.predict(X_test)\n",
        "\n",
        "# inverse the one hot encoding\n",
        "predictions_enc = pd.DataFrame(predictions).idxmax(axis=1)\n",
        "y_test_enc = pd.DataFrame(y_test).idxmax(axis=1)\n",
        "\n",
        "# print accuracy\n",
        "print('Accuracy: ', (predictions_enc == y_test_enc).mean())\n",
        "\n",
        "# print classification report\n",
        "print(classification_report(y_test_enc, predictions_enc))\n",
        "\n",
        "# print confusion matrix\n",
        "print(confusion_matrix(y_test_enc, predictions_enc))\n",
        "\n",
        "# display confusion matrix as heatmap\n",
        "ConfusionMatrixDisplay.from_predictions(y_test_enc, predictions_enc)"
      ],
      "metadata": {
        "id": "U0fmq6fLYmZD"
      },
      "execution_count": null,
      "outputs": []
    },
    {
      "cell_type": "markdown",
      "source": [
        "## kNN Classification"
      ],
      "metadata": {
        "id": "1iaD5nkAwTr7"
      }
    },
    {
      "cell_type": "code",
      "source": [
        "knn = KNeighborsClassifier(weights='distance', metric='manhattan')\n",
        "knn.fit(X_train, y_train)\n",
        "\n",
        "# get predictions\n",
        "predictions = knn.predict(X_test)\n",
        "\n",
        "# inverse the one hot encoding\n",
        "predictions_enc = pd.DataFrame(predictions).idxmax(axis=1)\n",
        "y_test_enc = pd.DataFrame(y_test).idxmax(axis=1)\n",
        "# print accuracy\n",
        "print('Accuracy: ', (predictions_enc == y_test_enc).mean())\n",
        "\n",
        "# print classification report\n",
        "print(classification_report(y_test_enc, predictions_enc))\n",
        "\n",
        "# print confusion matrix\n",
        "print(confusion_matrix(y_test_enc, predictions_enc))\n",
        "\n",
        "# display confusion matrix as heatmap\n",
        "ConfusionMatrixDisplay.from_predictions(y_test_enc, predictions_enc)"
      ],
      "metadata": {
        "id": "x3Pc8YKnwS1f"
      },
      "execution_count": null,
      "outputs": []
    },
    {
      "cell_type": "markdown",
      "source": [
        "## Decision Tree Classification\n",
        "\n"
      ],
      "metadata": {
        "id": "CHNxYoB4yTHS"
      }
    },
    {
      "cell_type": "code",
      "source": [
        "clf = DecisionTreeClassifier(max_depth=5)\n",
        "clf.fit(X_train, y_train)\n",
        "\n",
        "print('Feature Importances: ', clf.feature_importances_)\n",
        "\n",
        "# get predictions\n",
        "predictions = clf.predict(X_test)\n",
        "\n",
        "# inverse one hot encoding\n",
        "predictions_enc = pd.DataFrame(predictions).idxmax(axis=1)\n",
        "y_test_enc = pd.DataFrame(y_test).idxmax(axis=1)\n",
        "\n",
        "# print accuracy\n",
        "print('Accuracy: ', (predictions_enc == y_test_enc).mean())\n",
        "\n",
        "# print classification report\n",
        "print(classification_report(y_test_enc, predictions_enc))\n",
        "\n",
        "# print confusion matrix\n",
        "print(confusion_matrix(y_test_enc, predictions_enc))\n",
        "\n",
        "# display confusion matrix as heatmap\n",
        "ConfusionMatrixDisplay.from_predictions(y_test_enc, predictions_enc)"
      ],
      "metadata": {
        "id": "GaaZIxddGCBl"
      },
      "execution_count": null,
      "outputs": []
    },
    {
      "cell_type": "code",
      "source": [
        "target_names = ['GALAXY', 'QSO', 'STAR']\n",
        "dot_data = export_graphviz(clf, precision=2, feature_names=predictors, proportion=True,\n",
        "                           class_names=target_names, filled=True, rounded=True)\n",
        "graph = graphviz.Source(dot_data)\n",
        "graph"
      ],
      "metadata": {
        "id": "BOpC7qR-meg2"
      },
      "execution_count": null,
      "outputs": []
    },
    {
      "cell_type": "markdown",
      "source": [
        "## SVC"
      ],
      "metadata": {
        "id": "YxjB04iTyW3h"
      }
    },
    {
      "cell_type": "markdown",
      "source": [
        "SVC does not require one-hot encoding, so we will instead use the 'class' column as our target."
      ],
      "metadata": {
        "id": "B9nkzkrN1gkH"
      }
    },
    {
      "cell_type": "code",
      "source": [
        "# Set target\n",
        "target = ['class']\n",
        "\n",
        "# Set y\n",
        "y = df[target].values.ravel()\n",
        "\n",
        "# Train, Test, Split (Random Seed 42)\n",
        "X_train, X_test, y_train, y_test = train_test_split(X, y, test_size=0.2, random_state=42)\n",
        "\n",
        "# Scale X_train and X_test\n",
        "scaler = StandardScaler()\n",
        "X_train = scaler.fit_transform(X_train)\n",
        "X_test = scaler.transform(X_test)"
      ],
      "metadata": {
        "id": "kNbO3Dw8yYmR"
      },
      "execution_count": null,
      "outputs": []
    },
    {
      "cell_type": "code",
      "source": [
        "svc = SVC()\n",
        "svc.fit(X_train, y_train)\n",
        "\n",
        "predictions = svc.predict(X_test)\n",
        "\n",
        "# print accuracy\n",
        "print('Accuracy: ', (predictions == y_test).mean())\n",
        "\n",
        "# print classification report\n",
        "print(classification_report(y_test, predictions))\n",
        "\n",
        "# get  confusion matrix\n",
        "print(confusion_matrix(y_test, predictions))\n",
        "\n",
        "# display confusion matrix as heatmap\n",
        "ConfusionMatrixDisplay.from_predictions(y_test, predictions)"
      ],
      "metadata": {
        "id": "nGM1OlYF2Q7o"
      },
      "execution_count": null,
      "outputs": []
    },
    {
      "cell_type": "markdown",
      "source": [
        "## Logistic Regression"
      ],
      "metadata": {
        "id": "W044BOtECDwv"
      }
    },
    {
      "cell_type": "code",
      "source": [
        "clf = LogisticRegression(solver='liblinear')\n",
        "clf.fit(X_train, y_train)\n",
        "\n",
        "predictions = clf.predict(X_test)\n",
        "\n",
        "# print accuracy\n",
        "print('Accuracy: ', (predictions == y_test).mean())\n",
        "\n",
        "# print classification report\n",
        "print(classification_report(y_test, predictions))\n",
        "\n",
        "# get  confusion matrix\n",
        "print(confusion_matrix(y_test, predictions))\n",
        "\n",
        "# display confusion matrix as heatmap\n",
        "ConfusionMatrixDisplay.from_predictions(y_test, predictions)"
      ],
      "metadata": {
        "id": "oYrn2OHYCJ1b"
      },
      "execution_count": null,
      "outputs": []
    },
    {
      "cell_type": "markdown",
      "source": [
        "# Chosen Model"
      ],
      "metadata": {
        "id": "RskMcJhbu7jN"
      }
    },
    {
      "cell_type": "markdown",
      "source": [
        "Show decision tree code, graph of hits vs misses and where the majority occurred"
      ],
      "metadata": {
        "id": "zhJkz8WCvngf"
      }
    },
    {
      "cell_type": "markdown",
      "source": [
        "## Accuracy"
      ],
      "metadata": {
        "id": "JmO0KdcJ8sKQ"
      }
    },
    {
      "cell_type": "code",
      "source": [
        "#Label encoding\n",
        "df['class_cat'] = df['class'].astype('category').cat.codes\n",
        "predictors = ['alpha', 'delta', 'g', 'r', 'i', 'redshift', 'plate']\n",
        "X = df[predictors]\n",
        "y = df['class_cat']\n",
        "#TTS\n",
        "X_train, X_test, y_train, y_test = train_test_split(X, y, test_size=0.2, random_state=42)\n",
        "\n",
        "#default\n",
        "clf = DecisionTreeClassifier()\n",
        "clf.fit(X_train, y_train)\n",
        "train_predict = clf.predict(X_train)\n",
        "train_error = (train_predict != y_train).mean()\n",
        "test_predict = clf.predict(X_test)\n",
        "test_error = (test_predict != y_test).mean()\n",
        "train_accuracy = 1 - train_error\n",
        "test_accuracy = 1 - test_error\n",
        "\n",
        "print(\"Training accuracy:\", str(\"{:.2f}\".format(100*train_accuracy)) + \"%\")\n",
        "print(\"Test accuracy:\", str(\"{:.2f}\".format(100*test_accuracy)) + \"%\")"
      ],
      "metadata": {
        "id": "QSmxIPPn0X3z"
      },
      "execution_count": null,
      "outputs": []
    },
    {
      "cell_type": "markdown",
      "source": [
        "## Misclassifications"
      ],
      "metadata": {
        "id": "RfF3-bzG8xBZ"
      }
    },
    {
      "cell_type": "markdown",
      "source": [
        "Per the previous section's confusion matrix, it can be seen that the majority of misclassifications are GALAXY/QSO misclassifications. Furthermore, these misclassifications tend to happen in a specific redshift and g range. Let's take a look at them"
      ],
      "metadata": {
        "id": "WVjJk7RF80k5"
      }
    },
    {
      "cell_type": "code",
      "source": [
        "#Data\n",
        "fig, ax = plt.subplots(figsize = (30,15))\n",
        "redshift_range_upper = 1.7\n",
        "redshift_range_lower = 0.05\n",
        "g_range_upper = 23.5\n",
        "g_range_lower = 18.5\n",
        "# df_small = df[(df['redshift'] < redshift_range_upper) & (df['redshift'] > redshift_range_lower)]\n",
        "df_small = df[(df['redshift'] < redshift_range_upper) & (df['redshift'] > redshift_range_lower) & (df['g'] < g_range_upper) & (df['g'] > g_range_lower)]\n",
        "object_counts = df_small['class'].value_counts()\n",
        "object_percentages = 100*(df_small['class'].value_counts() / df['class'].value_counts())\n",
        "sns.scatterplot(x='redshift', y='g', hue='class', data=df_small, ax=ax)\n",
        "handles, labels  =  ax.get_legend_handles_labels()\n",
        "labels = [ 'GALAXY: ' + str(object_counts['GALAXY']) + ' (' + str(round(object_percentages['GALAXY'], 2)) + '% of total data)', \n",
        "          'QSO: ' + str(object_counts['QSO']) + ' (' + str(round(object_percentages['QSO'], 2)) + '% of total data)']\n",
        "ax.legend(handles, labels, loc='lower left')\n",
        "\n",
        "#Misclassifications\n",
        "misclassified_train = X_train[train_predict != y_train]\n",
        "misclassified_test = X_test[test_predict != y_test]\n",
        "shared_indices = []\n",
        "for index in misclassified_test.index.values:\n",
        "    if (index in df_small.index):\n",
        "        shared_indices.append(index)\n",
        "misclassified_in_df_small = df_small.loc[shared_indices]\n",
        "misclassified_in_df_small['misclassified'] = misclassified_in_df_small['class'].apply(lambda x: 'GALAXY classified as QSO' if x=='GALAXY' else 'QSO classified as GALAXY')\n",
        "sns.scatterplot(x='redshift', y='g', hue='misclassified', data=misclassified_in_df_small, marker='X', palette='dark', s=100, ax=ax)\n",
        "\n",
        "ax.set_title('Redshift vs G classes, redshift between ' + str(redshift_range_lower) + ' and ' + str(redshift_range_upper) + ', g between ' + str(g_range_lower) + ' and ' + str(g_range_upper) + '.\\n' + str(misclassified_in_df_small.shape[0]) + ' misclassifications. ' + str(100*round((misclassified_in_df_small.shape[0] / misclassified_test.shape[0]), 2)) + '% of total misclassifications for GALAXY and QSO.')\n",
        "# ax.set_title('Redshift vs G classes, redshift between ' + str(redshift_range_lower) + ' and ' + str(redshift_range_upper) + '.\\n' + str(misclassified_in_df_small.shape[0]) + ' misclassifications. ' + str(100*round((misclassified_in_df_small.shape[0] / misclassified_test.shape[0]), 2)) + '% of total misclassifications for GALAXY and QSO.')\n",
        "print(\"\\nTotal misclassified:\", misclassified_test.shape[0])\n",
        "print(\"Total misclassified in redshift range:[\", str(redshift_range_lower), str(redshift_range_upper), \"]:\", misclassified_in_df_small.shape[0], '\\n', misclassified_in_df_small['misclassified'].value_counts(), '\\n')\n",
        "#Drop labels\n",
        "df.drop(columns=['class_cat'], inplace=True)"
      ],
      "metadata": {
        "id": "lqMCUMGN8zzA"
      },
      "execution_count": null,
      "outputs": []
    },
    {
      "cell_type": "markdown",
      "source": [
        "# Bonus: Our model in action\n",
        "\n"
      ],
      "metadata": {
        "id": "TQdG748Tvrr5"
      }
    },
    {
      "cell_type": "markdown",
      "source": [
        "## Import SDSS data set from previous year (2016)"
      ],
      "metadata": {
        "id": "KIS0oACoN6eq"
      }
    },
    {
      "cell_type": "markdown",
      "source": [
        "We have to be wary of overlap between our set and the set from the former year. Let's clean up the columns and get rid of the duplicates"
      ],
      "metadata": {
        "id": "IL5kuUVEOFKj"
      }
    },
    {
      "cell_type": "code",
      "source": [
        "#2016 SDSS data\n",
        "df_sdss_2016 = pd.read_csv(\"sdss.csv\")\n",
        "\n",
        "#Clean up data and match columns to main data\n",
        "df_sdss_2016.rename(columns={'object_id': 'obj_ID', 'right_ascension': 'alpha', 'declination': 'delta', 'u_magnitude': 'u', \n",
        "                       'g_magnitude': 'g','r_magnitude': 'r','i_magnitude': 'i','z_magnitude': 'z',\n",
        "                       'obs_run_number': 'run_ID', 'rerun_number': 'rerun_ID', 'camera_column': 'cam_col', \n",
        "                       'field_number': 'field_ID', 'spectro_object_id': 'spec_obj_ID', 'plate_id': 'plate',\n",
        "                       'observation_date': 'MJD', 'fiber_id': 'fiber_ID'}, inplace=True, errors='raise')\n",
        "\n",
        "#drop duplicates in 2016 set \n",
        "df_sdss_2016.drop_duplicates(subset=['obj_ID'], inplace=True)\n",
        "\n",
        "#reread the original dataframe to get obj_ID back\n",
        "df_og = pd.read_csv(\"https://raw.githubusercontent.com/Deelane/CST383---Final/main/star_classification.csv\")\n",
        "\n",
        "#find overlapping rows in main set and 2016 set\n",
        "obj_id_set = set(df_sdss_2016['obj_ID'])\n",
        "ids_to_drop = []\n",
        "for obj_id in df_og['obj_ID']:\n",
        "    if obj_id in obj_id_set:\n",
        "        ids_to_drop.append(obj_id)\n",
        "\n",
        "#remove overlapping rows between main set and 2016 set \n",
        "df_sdss_2016 = df_sdss_2016[df_sdss_2016['obj_ID'].isin(ids_to_drop) == False]\n",
        "\n",
        "#drop non-used columns\n",
        "df_sdss_2016.drop(columns=['obj_ID', 'run_ID', 'rerun_ID', 'field_ID','fiber_ID', 'spec_obj_ID', 'MJD', 'cam_col', 'u', 'z'], inplace=True)\n",
        "\n",
        "#drop bad data\n",
        "bad_indices = df_sdss_2016[(df_sdss_2016['i'] == -9999)].index\n",
        "df_sdss_2016.drop(bad_indices, inplace=True) #drop the bad data\n",
        "df_sdss_2016.reset_index(drop=True, inplace=True)\n"
      ],
      "metadata": {
        "id": "Y2uFctsZMleC"
      },
      "execution_count": null,
      "outputs": []
    },
    {
      "cell_type": "markdown",
      "source": [
        "## Testing our model against these 732,646 new objects"
      ],
      "metadata": {
        "id": "bYE7519kOOro"
      }
    },
    {
      "cell_type": "code",
      "source": [
        "#Label encoding\n",
        "df_sdss_2016['class_cat'] = df_sdss_2016['class'].astype('category').cat.codes\n",
        "predictors = ['alpha', 'delta', 'g', 'r', 'i', 'redshift', 'plate']\n",
        "X = df_sdss_2016[predictors].values\n",
        "y = df_sdss_2016['class_cat'].values\n",
        "\n",
        "#Using our already trained model to predict all 732,646 new objects\n",
        "test_predict = clf.predict(X)\n",
        "test_error = (test_predict != y).mean()\n",
        "test_accuracy = 1 - test_error\n",
        "print(\"Number of objects predicted:\", len(test_predict))\n",
        "print(\"Accuracy:\", str(\"{:.2f}\".format(100*test_accuracy)) + \"%\")"
      ],
      "metadata": {
        "id": "5a4xiYauOV-M"
      },
      "execution_count": null,
      "outputs": []
    }
  ]
}